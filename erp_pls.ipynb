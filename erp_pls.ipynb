{
 "cells": [
  {
   "cell_type": "markdown",
   "id": "6e7e7526-0d89-4410-80d0-c09fc12bc44c",
   "metadata": {},
   "source": [
    "### Importing libraries"
   ]
  },
  {
   "cell_type": "code",
   "execution_count": null,
   "id": "fa548ef1-979e-40fe-9152-81126cd2bcaa",
   "metadata": {},
   "outputs": [],
   "source": [
    "import os\n",
    "import glob\n",
    "import numpy as np\n",
    "import pandas as pd\n",
    "import matplotlib.pyplot as plt\n",
    "from matplotlib.patches import Rectangle\n",
    "import seaborn as sns\n",
    "from sklearn.preprocessing import StandardScaler\n",
    "from sklearn.model_selection import KFold\n",
    "from sklearn.metrics import accuracy_score, confusion_matrix\n",
    "from sklearn.cross_decomposition import PLSRegression\n",
    "from scipy.stats import pearsonr, linregress, norm\n",
    "from matplotlib.ticker import MaxNLocator"
   ]
  },
  {
   "cell_type": "markdown",
   "id": "30fbbbdf-5312-4e52-ab94-3735c597315e",
   "metadata": {},
   "source": [
    "### DATA IMPORT AND PREPROCESSING"
   ]
  },
  {
   "cell_type": "code",
   "execution_count": 4,
   "id": "c5fc1a9a-0b59-48f7-a0f8-8846b61ecbd2",
   "metadata": {},
   "outputs": [],
   "source": [
    "# Import data\n",
    "data = pd.read_csv('EEG_data/gen_window_lppChans.csv')\n",
    "data_pz = pd.read_csv('EEG_data/gen_window_Pz.csv')"
   ]
  },
  {
   "cell_type": "code",
   "execution_count": 5,
   "id": "cbbb88dc-6fc7-4a15-8ce1-84881a95723b",
   "metadata": {},
   "outputs": [],
   "source": [
    "cond = data_pz.iloc[:, 1:4].astype(int)\n",
    "amp = data_pz.iloc[:, 4:] # ERP amplitude in time window 300-1000ms"
   ]
  },
  {
   "cell_type": "code",
   "execution_count": 6,
   "id": "d4283dec-28d0-4973-8b1d-73242538fe70",
   "metadata": {},
   "outputs": [],
   "source": [
    "cond_names = cond.columns.tolist()\n",
    "time_names = amp.columns.tolist()"
   ]
  },
  {
   "cell_type": "code",
   "execution_count": 7,
   "id": "1953d81d-8e5d-4373-a657-387bf7022432",
   "metadata": {},
   "outputs": [
    {
     "data": {
      "text/plain": [
       "(57, 350)"
      ]
     },
     "execution_count": 7,
     "metadata": {},
     "output_type": "execute_result"
    }
   ],
   "source": [
    "# prepare X and Y\n",
    "X = amp.values        # ERP amplitudes (subjects × timepoints/features)\n",
    "Y = cond.values       # One-hot conditions (subjects × 3)\n",
    "X.shape"
   ]
  },
  {
   "cell_type": "code",
   "execution_count": 8,
   "id": "4e2b0fa1-83f4-4da8-9027-3cd8fab07af5",
   "metadata": {},
   "outputs": [],
   "source": [
    "X_features = time_names\n",
    "Y_features = cond_names"
   ]
  },
  {
   "cell_type": "code",
   "execution_count": 9,
   "id": "0fe92ffb-9ff8-4d7f-997c-5ff21d14de2a",
   "metadata": {},
   "outputs": [],
   "source": [
    "# Scale X and Center Y\n",
    "scalerX = StandardScaler()\n",
    "centererY = StandardScaler(with_mean=True, with_std=False)\n",
    "X_scaled = scalerX.fit_transform(X)\n",
    "Y_centered = centererY.fit_transform(Y)"
   ]
  },
  {
   "cell_type": "markdown",
   "id": "d0be7f1d-f271-4cec-974b-ffd7c2ecf6d2",
   "metadata": {},
   "source": [
    "### FIT PLS"
   ]
  },
  {
   "cell_type": "code",
   "execution_count": 10,
   "id": "ba337204-027d-499c-b66f-dbbae38503c2",
   "metadata": {
    "scrolled": true
   },
   "outputs": [
    {
     "data": {
      "text/html": [
       "<style>#sk-container-id-1 {color: black;}#sk-container-id-1 pre{padding: 0;}#sk-container-id-1 div.sk-toggleable {background-color: white;}#sk-container-id-1 label.sk-toggleable__label {cursor: pointer;display: block;width: 100%;margin-bottom: 0;padding: 0.3em;box-sizing: border-box;text-align: center;}#sk-container-id-1 label.sk-toggleable__label-arrow:before {content: \"▸\";float: left;margin-right: 0.25em;color: #696969;}#sk-container-id-1 label.sk-toggleable__label-arrow:hover:before {color: black;}#sk-container-id-1 div.sk-estimator:hover label.sk-toggleable__label-arrow:before {color: black;}#sk-container-id-1 div.sk-toggleable__content {max-height: 0;max-width: 0;overflow: hidden;text-align: left;background-color: #f0f8ff;}#sk-container-id-1 div.sk-toggleable__content pre {margin: 0.2em;color: black;border-radius: 0.25em;background-color: #f0f8ff;}#sk-container-id-1 input.sk-toggleable__control:checked~div.sk-toggleable__content {max-height: 200px;max-width: 100%;overflow: auto;}#sk-container-id-1 input.sk-toggleable__control:checked~label.sk-toggleable__label-arrow:before {content: \"▾\";}#sk-container-id-1 div.sk-estimator input.sk-toggleable__control:checked~label.sk-toggleable__label {background-color: #d4ebff;}#sk-container-id-1 div.sk-label input.sk-toggleable__control:checked~label.sk-toggleable__label {background-color: #d4ebff;}#sk-container-id-1 input.sk-hidden--visually {border: 0;clip: rect(1px 1px 1px 1px);clip: rect(1px, 1px, 1px, 1px);height: 1px;margin: -1px;overflow: hidden;padding: 0;position: absolute;width: 1px;}#sk-container-id-1 div.sk-estimator {font-family: monospace;background-color: #f0f8ff;border: 1px dotted black;border-radius: 0.25em;box-sizing: border-box;margin-bottom: 0.5em;}#sk-container-id-1 div.sk-estimator:hover {background-color: #d4ebff;}#sk-container-id-1 div.sk-parallel-item::after {content: \"\";width: 100%;border-bottom: 1px solid gray;flex-grow: 1;}#sk-container-id-1 div.sk-label:hover label.sk-toggleable__label {background-color: #d4ebff;}#sk-container-id-1 div.sk-serial::before {content: \"\";position: absolute;border-left: 1px solid gray;box-sizing: border-box;top: 0;bottom: 0;left: 50%;z-index: 0;}#sk-container-id-1 div.sk-serial {display: flex;flex-direction: column;align-items: center;background-color: white;padding-right: 0.2em;padding-left: 0.2em;position: relative;}#sk-container-id-1 div.sk-item {position: relative;z-index: 1;}#sk-container-id-1 div.sk-parallel {display: flex;align-items: stretch;justify-content: center;background-color: white;position: relative;}#sk-container-id-1 div.sk-item::before, #sk-container-id-1 div.sk-parallel-item::before {content: \"\";position: absolute;border-left: 1px solid gray;box-sizing: border-box;top: 0;bottom: 0;left: 50%;z-index: -1;}#sk-container-id-1 div.sk-parallel-item {display: flex;flex-direction: column;z-index: 1;position: relative;background-color: white;}#sk-container-id-1 div.sk-parallel-item:first-child::after {align-self: flex-end;width: 50%;}#sk-container-id-1 div.sk-parallel-item:last-child::after {align-self: flex-start;width: 50%;}#sk-container-id-1 div.sk-parallel-item:only-child::after {width: 0;}#sk-container-id-1 div.sk-dashed-wrapped {border: 1px dashed gray;margin: 0 0.4em 0.5em 0.4em;box-sizing: border-box;padding-bottom: 0.4em;background-color: white;}#sk-container-id-1 div.sk-label label {font-family: monospace;font-weight: bold;display: inline-block;line-height: 1.2em;}#sk-container-id-1 div.sk-label-container {text-align: center;}#sk-container-id-1 div.sk-container {/* jupyter's `normalize.less` sets `[hidden] { display: none; }` but bootstrap.min.css set `[hidden] { display: none !important; }` so we also need the `!important` here to be able to override the default hidden behavior on the sphinx rendered scikit-learn.org. See: https://github.com/scikit-learn/scikit-learn/issues/21755 */display: inline-block !important;position: relative;}#sk-container-id-1 div.sk-text-repr-fallback {display: none;}</style><div id=\"sk-container-id-1\" class=\"sk-top-container\"><div class=\"sk-text-repr-fallback\"><pre>PLSRegression(scale=False)</pre><b>In a Jupyter environment, please rerun this cell to show the HTML representation or trust the notebook. <br />On GitHub, the HTML representation is unable to render, please try loading this page with nbviewer.org.</b></div><div class=\"sk-container\" hidden><div class=\"sk-item\"><div class=\"sk-estimator sk-toggleable\"><input class=\"sk-toggleable__control sk-hidden--visually\" id=\"sk-estimator-id-1\" type=\"checkbox\" checked><label for=\"sk-estimator-id-1\" class=\"sk-toggleable__label sk-toggleable__label-arrow\">PLSRegression</label><div class=\"sk-toggleable__content\"><pre>PLSRegression(scale=False)</pre></div></div></div></div></div>"
      ],
      "text/plain": [
       "PLSRegression(scale=False)"
      ]
     },
     "execution_count": 10,
     "metadata": {},
     "output_type": "execute_result"
    }
   ],
   "source": [
    "n_components = 2\n",
    "pls = PLSRegression(n_components=n_components, scale=False)\n",
    "pls.fit(X_scaled, Y_centered)"
   ]
  },
  {
   "cell_type": "code",
   "execution_count": 11,
   "id": "d665215c-3dbd-4498-b8e3-ff5342d3becc",
   "metadata": {},
   "outputs": [],
   "source": [
    "# Scores (latent variable projections)\n",
    "X_scores = pls.transform(X_scaled)\n",
    "Y_pred   = pls.predict(X_scaled)"
   ]
  },
  {
   "cell_type": "code",
   "execution_count": 12,
   "id": "c8f32bfc-9417-4ecc-b642-07008faddc0b",
   "metadata": {},
   "outputs": [
    {
     "name": "stdout",
     "output_type": "stream",
     "text": [
      "Covariance explained (%): [33.48408457 66.51591543]\n"
     ]
    }
   ],
   "source": [
    "# Singular values & covariance explained\n",
    "singvals = np.zeros(n_components)\n",
    "for i in range(n_components):\n",
    "    cov_matrix = np.cov(X_scores[:, i], Y_pred[:, i])\n",
    "    singvals[i] = cov_matrix[0, 1] * np.sqrt(X.shape[0] - 1)\n",
    "\n",
    "cv = singvals**2 / np.sum(singvals**2) * 100\n",
    "print(\"Covariance explained (%):\", cv)"
   ]
  },
  {
   "cell_type": "markdown",
   "id": "534ca8d1-00de-441b-8c3a-8c7da4ab57e2",
   "metadata": {},
   "source": [
    "### Permutation test for LV significance"
   ]
  },
  {
   "cell_type": "code",
   "execution_count": 13,
   "id": "87ce214c-9762-4586-af8d-ff9a97efd2f6",
   "metadata": {},
   "outputs": [],
   "source": [
    "n_permutations = 10000\n",
    "perm_singvals = np.zeros((n_components, n_permutations))"
   ]
  },
  {
   "cell_type": "code",
   "execution_count": 14,
   "id": "a6fb3273-6b8f-4570-9325-5f4b47c39448",
   "metadata": {
    "scrolled": true
   },
   "outputs": [
    {
     "name": "stdout",
     "output_type": "stream",
     "text": [
      "Completed 1000 permutations\n",
      "Completed 2000 permutations\n",
      "Completed 3000 permutations\n",
      "Completed 4000 permutations\n",
      "Completed 5000 permutations\n",
      "Completed 6000 permutations\n",
      "Completed 7000 permutations\n",
      "Completed 8000 permutations\n",
      "Completed 9000 permutations\n",
      "Completed 10000 permutations\n"
     ]
    }
   ],
   "source": [
    "# Run permutation tests\n",
    "for perm in range(n_permutations):\n",
    "    # Shuffle Y\n",
    "    Y_perm = np.random.permutation(Y_centered)\n",
    "    \n",
    "    # Fit PLS on permuted data\n",
    "    pls_perm = PLSRegression(n_components=n_components, scale=False)\n",
    "    pls_perm.fit(X_scaled, Y_perm)\n",
    "    \n",
    "    # Get permuted scores\n",
    "    X_perm_scores = pls_perm.transform(X_scaled)\n",
    "    Y_perm_pred = pls_perm.predict(X_scaled)\n",
    "    \n",
    "    # Calculate permuted singular values\n",
    "    for i in range(n_components):\n",
    "        cov_matrix = np.cov(X_perm_scores[:, i], Y_perm_pred[:, i])\n",
    "        perm_singvals[i, perm] = cov_matrix[0, 1] * np.sqrt(X_scaled.shape[0] - 1)\n",
    "    \n",
    "    if (perm + 1) % 1000 == 0:\n",
    "        print(f\"Completed {perm + 1} permutations\")"
   ]
  },
  {
   "cell_type": "code",
   "execution_count": 15,
   "id": "3babff1e-0a46-4731-84dd-dcf39893a7ce",
   "metadata": {},
   "outputs": [
    {
     "data": {
      "text/plain": [
       "array([0.70892911, 0.01419858])"
      ]
     },
     "execution_count": 15,
     "metadata": {},
     "output_type": "execute_result"
    }
   ],
   "source": [
    "# Calculate percentage of covariance explained in the permuted models\n",
    "cv_perms = np.zeros_like(perm_singvals)\n",
    "for p in range(n_permutations):\n",
    "    cv_perms[:, p] = perm_singvals[:, p]**2 / np.sum(perm_singvals[:, p]**2) * 100\n",
    "\n",
    "# Calculate p-values for each component\n",
    "p_values = np.zeros(n_components)\n",
    "for i in range(n_components):\n",
    "    p_values[i] = (1 + np.sum(perm_singvals[i, :] > singvals[i])) / (1 + n_permutations)\n",
    "p_values"
   ]
  },
  {
   "cell_type": "code",
   "execution_count": 16,
   "id": "7a3aaf4a-5b40-440c-9a12-753dc27e44b7",
   "metadata": {},
   "outputs": [
    {
     "name": "stdout",
     "output_type": "stream",
     "text": [
      "\n",
      "--- Summary of Components ---\n",
      "Component 1: 33.48% covariance explained, p-value = 0.709\n",
      "Component 2: 66.52% covariance explained, p-value = 0.014\n",
      "\n",
      "Significant components (p < 0.05): [2]\n"
     ]
    }
   ],
   "source": [
    "# Print summary\n",
    "print(\"\\n--- Summary of Components ---\")\n",
    "for i in range(n_components):\n",
    "    print(f\"Component {i+1}: {cv[i]:.2f}% covariance explained, p-value = {p_values[i]:.3f}\")\n",
    "\n",
    "# Identify significant components\n",
    "sig_components = np.where(p_values < 0.05)[0] + 1\n",
    "print(f\"\\nSignificant components (p < 0.05): {sig_components}\")"
   ]
  },
  {
   "cell_type": "code",
   "execution_count": 17,
   "id": "300983c3-a8ec-42bd-bc15-79d5812292e8",
   "metadata": {},
   "outputs": [],
   "source": [
    "# p-values for LVs\n",
    "p_values = np.zeros(n_components)\n",
    "for i in range(n_components):\n",
    "    p_values[i] = (1 + np.sum(perm_singvals[i, :] > singvals[i])) / (1 + n_permutations)"
   ]
  },
  {
   "cell_type": "code",
   "execution_count": 18,
   "id": "4faeb648-40fa-4a0e-9a6d-ec31c1c006bc",
   "metadata": {},
   "outputs": [
    {
     "name": "stdout",
     "output_type": "stream",
     "text": [
      "Significant components (p < 0.05): [2]\n"
     ]
    }
   ],
   "source": [
    "sig_components = np.where(p_values < 0.05)[0] + 1\n",
    "print(\"Significant components (p < 0.05):\", sig_components)"
   ]
  },
  {
   "cell_type": "code",
   "execution_count": 19,
   "id": "580d9e56-f323-41d9-a008-ecce9a94e561",
   "metadata": {},
   "outputs": [
    {
     "data": {
      "image/png": "[encoded data removed]",
      "text/plain": [
       "<Figure size 500x400 with 1 Axes>"
      ]
     },
     "metadata": {},
     "output_type": "display_data"
    }
   ],
   "source": [
    "plt.figure(figsize=(5, 4))\n",
    "\n",
    "box_positions = range(n_components)\n",
    "\n",
    "boxplots = plt.boxplot(cv_perms.T, positions=box_positions, widths=0.6, \n",
    "                       patch_artist=True, \n",
    "                       boxprops=dict(facecolor='white', color='gray', linewidth=0.8),\n",
    "                       whiskerprops=dict(color='gray', linewidth=0.8),\n",
    "                       capprops=dict(color='gray', linewidth=0.8),\n",
    "                       medianprops=dict(color='gray', linewidth=1.2),\n",
    "                       flierprops=dict(marker='o', markerfacecolor='gray', markersize=3,\n",
    "                                      markeredgecolor='gray', alpha=0.5))\n",
    "\n",
    "plt.scatter(box_positions, cv, s=60, c='#F9A03F', label='Effect size', \n",
    "            edgecolor='black', linewidth=0.5, zorder=10)\n",
    "plt.ylim(0, 100) \n",
    "plt.xlabel('Latent variable', fontsize=10)\n",
    "plt.ylabel('% covariance explained', fontsize=10)\n",
    "plt.tick_params(axis='both', which='both', direction='out', length=0)\n",
    "plt.tick_params(axis='x', labelsize=9)\n",
    "plt.tick_params(axis='y', labelsize=9)\n",
    "plt.grid(axis='y', linestyle='--', alpha=0.2)\n",
    "\n",
    "legend_elements = [\n",
    "    plt.Line2D([0], [0], marker='o', color='w', markerfacecolor='#F9A03F', \n",
    "              markersize=8, markeredgecolor='black', markeredgewidth=0.5, label='Effect size'),\n",
    "    Rectangle((0, 0), 1, 1, fc='white', ec='gray', linewidth=0.8, label='Spin null')\n",
    "]\n",
    "plt.legend(handles=legend_elements, frameon=False, fontsize=8, loc='upper right')\n",
    "plt.tight_layout()"
   ]
  },
  {
   "cell_type": "code",
   "execution_count": 22,
   "id": "de3ec3f4-ec5d-4b43-8511-7b67a0f98e5a",
   "metadata": {},
   "outputs": [],
   "source": [
    "Y_true_class = [np.argmax(Y[i, :]) for i in range(len(Y))]\n",
    "Y_pred_class = [np.argmax(Y_pred[i, :]) for i in range(len(Y))]"
   ]
  },
  {
   "cell_type": "code",
   "execution_count": 23,
   "id": "c82e9825-38e5-4687-840e-15c4709be373",
   "metadata": {},
   "outputs": [
    {
     "name": "stdout",
     "output_type": "stream",
     "text": [
      "Condition\n",
      "0   -15.708388\n",
      "1    30.105625\n",
      "2   -14.397237\n",
      "Name: LV2_design, dtype: float64\n"
     ]
    }
   ],
   "source": [
    "U = pls.y_scores_  # design scores\n",
    "\n",
    "design_score_LV2 = U[:, 1]\n",
    "df = pd.DataFrame({'Condition': Y_true_class, 'LV2_design': design_score_LV2})\n",
    "design_by_condition = df.groupby('Condition')['LV2_design'].mean()\n",
    "print(design_by_condition)"
   ]
  },
  {
   "cell_type": "code",
   "execution_count": 24,
   "id": "99ea4f7f-8637-42b0-8496-a4451386d38f",
   "metadata": {},
   "outputs": [
    {
     "data": {
      "image/png": "[encoded data removed]",
      "text/plain": [
       "<Figure size 500x400 with 1 Axes>"
      ]
     },
     "metadata": {},
     "output_type": "display_data"
    }
   ],
   "source": [
    "lv2_scores_norm = design_score_LV2 / np.max(np.abs(design_score_LV2))\n",
    "\n",
    "# Put into a DataFrame\n",
    "df = pd.DataFrame({'Condition': Y_true_class, 'LV2_design': lv2_scores_norm})\n",
    "\n",
    "# Group by condition: mean and SEM (standard error of the mean)\n",
    "group_stats = df.groupby('Condition')['LV2_design'].agg(['mean', 'sem']).reset_index()\n",
    "\n",
    "# --- Plot ---\n",
    "plt.figure(figsize=(5, 4))\n",
    "plt.bar(group_stats['Condition'], group_stats['mean'], yerr=group_stats['sem'],\n",
    "        color=['b', 'gray', 'r'], capsize=5)\n",
    "\n",
    "plt.axhline(0, color='black', linestyle='--')\n",
    "plt.xticks(range(len(group_stats)), Y_features)\n",
    "plt.ylabel('Normalized Design Score (LV2)')\n",
    "plt.tight_layout()\n",
    "plt.savefig(\"lv2_design_scores.png\", dpi=300, bbox_inches='tight')"
   ]
  },
  {
   "cell_type": "markdown",
   "id": "9d0c603c-bdee-4162-bd46-9ded458d6a77",
   "metadata": {
    "jp-MarkdownHeadingCollapsed": true
   },
   "source": [
    "### What are design scores?\n",
    "Design scores = the representation of the experimental conditions (Y) along each LV axis.\n",
    "\n",
    "Each LV is defined by projections of the experimental design matrix \\\\( Y \\\\) and the brain/data matrix \\\\( X \\\\).\n",
    "\n",
    "- Brain scores**: projection of \\\\( X \\\\) onto the LV.  \n",
    "- **Design scores**: projection of \\\\( Y \\\\) onto the LV.  \n",
    "\n",
    "The design scores \\\\( U \\\\) are computed as:\n",
    "\n",
    "\\\\[\n",
    "U = Y W_y\n",
    "\\\\]\n",
    "\n",
    "where \\\\( W_y \\\\) = weight/loadings vector of \\\\( Y \\\\) for the given LV  \n",
    "\n",
    "### Interpretation\n",
    "\n",
    "- Sign (positive/negative): Which side of the LV a condition lies on.\n",
    "- Magnitude: How strongly that condition is associated with the LV.\n",
    "\n",
    "In this pls, Neutral has a large positive design score, meaning LV2 is strongly expressed for Neutral. On the other hand, Negative and Positive have negative design scores, meaning LV2 reflects a contrast of Neutral vs. Emotional.\n",
    "\n",
    "### Reporting results\n",
    "Partial Least Squares analysis revealed a significant latent variable (LV2; p < 0.05), which explained 66.52% of the cross-block covariance. LV2 reflected a strong contrast between neutral and emotional conditions: neutral condition was associated with positive design scores (M = 30.11), while both negative (M = -15.71) and positive (M = -14.40) conditions showed negative design scores. This pattern suggests that LV2 captured an emotionality effect, differentiating emotional (positive and negative) from neutral word stimuli, independent of valence."
   ]
  }
 ],
 "metadata": {
  "kernelspec": {
   "display_name": "Python 3 (ipykernel)",
   "language": "python",
   "name": "python3"
  },
  "language_info": {
   "codemirror_mode": {
    "name": "ipython",
    "version": 3
   },
   "file_extension": ".py",
   "mimetype": "text/x-python",
   "name": "python",
   "nbconvert_exporter": "python",
   "pygments_lexer": "ipython3",
   "version": "3.8.10"
  }
 },
 "nbformat": 4,
 "nbformat_minor": 5
}
